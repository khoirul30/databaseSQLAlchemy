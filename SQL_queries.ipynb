{
 "cells": [
  {
   "cell_type": "markdown",
   "metadata": {},
   "source": [
    "# SQL QUERIES"
   ]
  },
  {
   "cell_type": "code",
   "execution_count": 2,
   "metadata": {},
   "outputs": [],
   "source": [
    "# import package\n",
    "from sqlalchemy import create_engine\n",
    "import pandas as pd"
   ]
  },
  {
   "cell_type": "code",
   "execution_count": 31,
   "metadata": {},
   "outputs": [],
   "source": [
    "engine = create_engine('sqlite:///census.sqlite')\n",
    "con = engine.connect()"
   ]
  },
  {
   "cell_type": "markdown",
   "metadata": {},
   "source": [
    "**Load Data**\n",
    "\n",
    "**select * from table_name**"
   ]
  },
  {
   "cell_type": "code",
   "execution_count": 32,
   "metadata": {},
   "outputs": [
    {
     "name": "stdout",
     "output_type": "stream",
     "text": [
      "['state', 'sex', 'age', 'pop2000', 'pop2008']\n"
     ]
    }
   ],
   "source": [
    "query = con.execute(\"select * FROM census\")\n",
    "# show column from census table\n",
    "print(query.keys())"
   ]
  },
  {
   "cell_type": "code",
   "execution_count": 33,
   "metadata": {},
   "outputs": [
    {
     "data": {
      "text/plain": [
       "[('Illinois', 'M', 0, 89600, 95012),\n",
       " ('Illinois', 'M', 1, 88445, 91829),\n",
       " ('Illinois', 'M', 2, 88729, 89547),\n",
       " ('Illinois', 'M', 3, 88868, 90037),\n",
       " ('Illinois', 'M', 4, 91947, 91111)]"
      ]
     },
     "execution_count": 33,
     "metadata": {},
     "output_type": "execute_result"
    }
   ],
   "source": [
    "# census table\n",
    "census = query.fetchall()\n",
    "census[:5]"
   ]
  },
  {
   "cell_type": "code",
   "execution_count": 34,
   "metadata": {},
   "outputs": [
    {
     "data": {
      "text/plain": [
       "[('Illinois', 0),\n",
       " ('Illinois', 1),\n",
       " ('Illinois', 2),\n",
       " ('Illinois', 3),\n",
       " ('Illinois', 4)]"
      ]
     },
     "execution_count": 34,
     "metadata": {},
     "output_type": "execute_result"
    }
   ],
   "source": [
    "query = con.execute('select state,age from census').fetchall()\n",
    "query[:5]"
   ]
  },
  {
   "cell_type": "markdown",
   "metadata": {},
   "source": [
    "**search unique records or return only different values. Inside a table, a column often contains many duplicate values**\n",
    "\n",
    "**select distinct columns from table name**"
   ]
  },
  {
   "cell_type": "code",
   "execution_count": 36,
   "metadata": {},
   "outputs": [
    {
     "data": {
      "text/plain": [
       "[('Illinois',),\n",
       " ('New Jersey',),\n",
       " ('District of Columbia',),\n",
       " ('North Dakota',),\n",
       " ('Florida',),\n",
       " ('Maryland',),\n",
       " ('Idaho',),\n",
       " ('Massachusetts',),\n",
       " ('Oregon',),\n",
       " ('Nevada',),\n",
       " ('Michigan',),\n",
       " ('Wisconsin',),\n",
       " ('Missouri',),\n",
       " ('Washington',),\n",
       " ('North Carolina',),\n",
       " ('Arizona',),\n",
       " ('Arkansas',),\n",
       " ('Colorado',),\n",
       " ('Indiana',),\n",
       " ('Pennsylvania',),\n",
       " ('Hawaii',),\n",
       " ('Kansas',),\n",
       " ('Louisiana',),\n",
       " ('Alabama',),\n",
       " ('Minnesota',),\n",
       " ('South Dakota',),\n",
       " ('New York',),\n",
       " ('California',),\n",
       " ('Connecticut',),\n",
       " ('Ohio',),\n",
       " ('Rhode Island',),\n",
       " ('Georgia',),\n",
       " ('South Carolina',),\n",
       " ('Alaska',),\n",
       " ('Delaware',),\n",
       " ('Tennessee',),\n",
       " ('Vermont',),\n",
       " ('Montana',),\n",
       " ('Kentucky',),\n",
       " ('Utah',),\n",
       " ('Nebraska',),\n",
       " ('West Virginia',),\n",
       " ('Iowa',),\n",
       " ('Wyoming',),\n",
       " ('Maine',),\n",
       " ('New Hampshire',),\n",
       " ('Mississippi',),\n",
       " ('Oklahoma',),\n",
       " ('New Mexico',),\n",
       " ('Virginia',),\n",
       " ('Texas',)]"
      ]
     },
     "execution_count": 36,
     "metadata": {},
     "output_type": "execute_result"
    }
   ],
   "source": [
    "# show contents of columns state \n",
    "query = con.execute(\"select distinct State from census\").fetchall()\n",
    "query"
   ]
  },
  {
   "cell_type": "code",
   "execution_count": 41,
   "metadata": {},
   "outputs": [
    {
     "data": {
      "text/plain": [
       "[('M',), ('F',)]"
      ]
     },
     "execution_count": 41,
     "metadata": {},
     "output_type": "execute_result"
    }
   ],
   "source": [
    "query = con.execute('select distinct sex from census').fetchall()\n",
    "query"
   ]
  },
  {
   "cell_type": "code",
   "execution_count": 60,
   "metadata": {},
   "outputs": [
    {
     "data": {
      "text/plain": [
       "[(51,)]"
      ]
     },
     "execution_count": 60,
     "metadata": {},
     "output_type": "execute_result"
    }
   ],
   "source": [
    "# find count unique contents of state columns\n",
    "query = con.execute('select count(distinct state) from census').fetchall()\n",
    "query"
   ]
  },
  {
   "cell_type": "markdown",
   "metadata": {},
   "source": [
    "**Filter**\n",
    "\n",
    "**select column from table where condition**"
   ]
  },
  {
   "cell_type": "code",
   "execution_count": 62,
   "metadata": {},
   "outputs": [
    {
     "data": {
      "text/plain": [
       "[('New York', 'M', 0, 126237, 128088),\n",
       " ('New York', 'M', 1, 124008, 125649),\n",
       " ('New York', 'M', 2, 124725, 121615),\n",
       " ('New York', 'M', 3, 126697, 120580),\n",
       " ('New York', 'M', 4, 131357, 122482)]"
      ]
     },
     "execution_count": 62,
     "metadata": {},
     "output_type": "execute_result"
    }
   ],
   "source": [
    "# show state columns = New York \n",
    "query = con.execute(\"select * from census WHERE state='New York'\").fetchall()\n",
    "query[:5]"
   ]
  },
  {
   "cell_type": "code",
   "execution_count": 66,
   "metadata": {},
   "outputs": [
    {
     "name": "stdout",
     "output_type": "stream",
     "text": [
      "New York 0 126237 128088\n",
      "New York 1 124008 125649\n",
      "New York 2 124725 121615\n",
      "New York 3 126697 120580\n",
      "New York 4 131357 122482\n"
     ]
    }
   ],
   "source": [
    "for row in query[:5]:\n",
    "    print(row.state, row.age, row.pop2000, row.pop2008)"
   ]
  },
  {
   "cell_type": "code",
   "execution_count": 73,
   "metadata": {},
   "outputs": [
    {
     "data": {
      "text/plain": [
       "[('Illinois', 'M', 0, 89600, 95012),\n",
       " ('Illinois', 'M', 1, 88445, 91829),\n",
       " ('Illinois', 'M', 2, 88729, 89547),\n",
       " ('Illinois', 'M', 3, 88868, 90037),\n",
       " ('Illinois', 'M', 4, 91947, 91111),\n",
       " ('Illinois', 'M', 5, 93894, 89802),\n",
       " ('Illinois', 'M', 6, 93676, 88931),\n",
       " ('Illinois', 'M', 7, 94818, 90940),\n",
       " ('Illinois', 'M', 8, 95035, 86943),\n",
       " ('Illinois', 'M', 9, 96436, 86055)]"
      ]
     },
     "execution_count": 73,
     "metadata": {},
     "output_type": "execute_result"
    }
   ],
   "source": [
    "# filter any data use IN\n",
    "ag = (4,5,8,9,20)\n",
    "query = con.execute('select * from census where age in (ag)').fetchmany(10)\n",
    "query"
   ]
  },
  {
   "cell_type": "code",
   "execution_count": 83,
   "metadata": {},
   "outputs": [
    {
     "data": {
      "text/plain": [
       "[('Tennessee', 'M', 0, 38916, 43537),\n",
       " ('Tennessee', 'M', 1, 38569, 43343),\n",
       " ('Tennessee', 'M', 2, 38157, 42592),\n",
       " ('Tennessee', 'M', 3, 37780, 41530),\n",
       " ('Tennessee', 'M', 4, 38789, 41627),\n",
       " ('Tennessee', 'M', 5, 39442, 40758),\n",
       " ('Tennessee', 'M', 6, 39262, 40963),\n",
       " ('Tennessee', 'M', 7, 40356, 42287),\n",
       " ('Tennessee', 'M', 8, 41016, 41043),\n",
       " ('Tennessee', 'M', 9, 42320, 40944)]"
      ]
     },
     "execution_count": 83,
     "metadata": {},
     "output_type": "execute_result"
    }
   ],
   "source": [
    "# filter any data use LIKE\n",
    "query = con.execute(\"select distinct * from census WHERE state LIKE 'T%'\").fetchmany(10)\n",
    "query"
   ]
  },
  {
   "cell_type": "code",
   "execution_count": 91,
   "metadata": {},
   "outputs": [
    {
     "data": {
      "text/plain": [
       "[('Tennessee', 'M', 1, 38569, 43343),\n",
       " ('Tennessee', 'M', 2, 38157, 42592),\n",
       " ('Tennessee', 'M', 3, 37780, 41530),\n",
       " ('Tennessee', 'F', 1, 36418, 41207),\n",
       " ('Tennessee', 'F', 2, 36341, 41096),\n",
       " ('Tennessee', 'F', 3, 36124, 39945),\n",
       " ('Texas', 'M', 1, 165635, 208828),\n",
       " ('Texas', 'M', 2, 165337, 206795),\n",
       " ('Texas', 'M', 3, 164292, 205343),\n",
       " ('Texas', 'F', 1, 158669, 199810)]"
      ]
     },
     "execution_count": 91,
     "metadata": {},
     "output_type": "execute_result"
    }
   ],
   "source": [
    "# filter any data which is generate age contains 1 until 3 and state cointain the first letter T\n",
    "query = con.execute(\"select * from census WHERE age BETWEEN 1 AND 3 AND state LIKE 'T%'\").fetchmany(10)\n",
    "query"
   ]
  },
  {
   "cell_type": "markdown",
   "metadata": {},
   "source": [
    "**Order BY**\n",
    "\n",
    "**select columns from table ORDER BY column1, column2, ... ASC|DESC**"
   ]
  },
  {
   "cell_type": "code",
   "execution_count": 92,
   "metadata": {},
   "outputs": [
    {
     "data": {
      "text/plain": [
       "[('Alaska', 'M', 84, 217, 391),\n",
       " ('Alaska', 'M', 83, 236, 424),\n",
       " ('Alaska', 'M', 82, 310, 469),\n",
       " ('Alaska', 'M', 81, 350, 568),\n",
       " ('Alaska', 'F', 84, 362, 519),\n",
       " ('Alaska', 'F', 83, 394, 624),\n",
       " ('Alaska', 'M', 80, 441, 648),\n",
       " ('Alaska', 'F', 81, 443, 701),\n",
       " ('Alaska', 'F', 82, 451, 648),\n",
       " ('Alaska', 'M', 79, 470, 681)]"
      ]
     },
     "execution_count": 92,
     "metadata": {},
     "output_type": "execute_result"
    }
   ],
   "source": [
    "# order by pop2000 columns\n",
    "query = con.execute(\"select * from census ORDER BY pop2000\").fetchall()\n",
    "query[:10]"
   ]
  },
  {
   "cell_type": "code",
   "execution_count": 100,
   "metadata": {},
   "outputs": [
    {
     "data": {
      "text/plain": [
       "[('Wyoming', 'M', 84, 490, 643),\n",
       " ('Wyoming', 'M', 83, 515, 726),\n",
       " ('Wyoming', 'M', 82, 634, 792),\n",
       " ('Wyoming', 'M', 81, 687, 845),\n",
       " ('Wyoming', 'F', 84, 801, 878)]"
      ]
     },
     "execution_count": 100,
     "metadata": {},
     "output_type": "execute_result"
    }
   ],
   "source": [
    "# order by state from higher value to small value and pop2000 from small value to higher value\n",
    "query = con.execute(\"select * from census ORDER BY state DESC, pop2000 ASC\").fetchall()\n",
    "query[:5]"
   ]
  },
  {
   "cell_type": "markdown",
   "metadata": {},
   "source": [
    "**How to Test for NULL Values?**\n",
    "\n",
    "**select column from table where column IS NULL**"
   ]
  },
  {
   "cell_type": "code",
   "execution_count": 114,
   "metadata": {},
   "outputs": [
    {
     "data": {
      "text/plain": [
       "[]"
      ]
     },
     "execution_count": 114,
     "metadata": {},
     "output_type": "execute_result"
    }
   ],
   "source": [
    "query = con.execute(\"select * from census where state IS NULL\").fetchall()\n",
    "query"
   ]
  },
  {
   "cell_type": "markdown",
   "metadata": {},
   "source": [
    "**GROUP BY**\n",
    "\n",
    "**select column from table GROUP BY column**"
   ]
  },
  {
   "cell_type": "code",
   "execution_count": 117,
   "metadata": {},
   "outputs": [
    {
     "data": {
      "text/plain": [
       "[('Alabama', 172),\n",
       " ('Alaska', 172),\n",
       " ('Arizona', 172),\n",
       " ('Arkansas', 172),\n",
       " ('California', 172)]"
      ]
     },
     "execution_count": 117,
     "metadata": {},
     "output_type": "execute_result"
    }
   ],
   "source": [
    "query = con.execute('select state, count(age) from census GROUP BY state').fetchall()\n",
    "query[:5]"
   ]
  },
  {
   "cell_type": "code",
   "execution_count": 142,
   "metadata": {},
   "outputs": [
    {
     "name": "stdout",
     "output_type": "stream",
     "text": [
      "State : Alabama have average in 2000 : 25805.575581395347\n",
      "State : Alaska have average in 2000 : 3538.3023255813955\n",
      "State : Arizona have average in 2000 : 29906.575581395347\n",
      "State : Arkansas have average in 2000 : 15537.406976744185\n",
      "State : California have average in 2000 : 196682.8023255814\n",
      " \n",
      "State : Alabama have average in 2008 : 27031.20348837209\n",
      "State : Alaska have average in 2008 : 3863.639534883721\n",
      "State : Arizona have average in 2008 : 37678.87790697674\n",
      "State : Arkansas have average in 2008 : 16560.6511627907\n",
      "State : California have average in 2008 : 212843.03488372092\n"
     ]
    }
   ],
   "source": [
    "# find average population for each state\n",
    "query = con.execute('select state, AVG(pop2000) AS average_2000 ,AVG(pop2008) AS average_2008 from census GROUP BY state').fetchall()\n",
    "for row in query[:5]:\n",
    "    print('State : ' + row.state+ ' have average in 2000 : ' + str(row.average_2000))\n",
    "\n",
    "print(\" \")\n",
    "\n",
    "for row in query[:5]:\n",
    "    print(\"State : \" +row.state+ \" have average in 2008 : \" +str(row.average_2008))"
   ]
  },
  {
   "cell_type": "code",
   "execution_count": 140,
   "metadata": {},
   "outputs": [
    {
     "data": {
      "text/plain": [
       "['state', 'average_2000', 'average_2008']"
      ]
     },
     "execution_count": 140,
     "metadata": {},
     "output_type": "execute_result"
    }
   ],
   "source": [
    "query[0].keys()"
   ]
  },
  {
   "cell_type": "code",
   "execution_count": 185,
   "metadata": {},
   "outputs": [
    {
     "name": "stdout",
     "output_type": "stream",
     "text": [
      "precentage of population in 2000: 48.91 %\n",
      "48\n"
     ]
    }
   ],
   "source": [
    "# calculate precentage of men in population 2000\n",
    "# for convert integer to float you can use 'CAST ... AS FLOAT'\n",
    "query = con.execute(\"select ROUND(CAST(SUM(CASE WHEN sex ='M' THEN pop2000 ELSE 0 END) AS FLOAT)*100/SUM(pop2000),2) FROM census\").scalar()\n",
    "print('precentage of population in 2000: {} %' .format(query))\n"
   ]
  },
  {
   "cell_type": "code",
   "execution_count": 153,
   "metadata": {
    "scrolled": true
   },
   "outputs": [
    {
     "name": "stdout",
     "output_type": "stream",
     "text": [
      "The difference of population in 2008 and 2000: 21957308\n"
     ]
    }
   ],
   "source": [
    "# calculate precentage of men in population 2000 \n",
    "query = con.execute(\"select SUM(pop2008)-SUM(pop2000) from census\").scalar()\n",
    "print('The difference of population in 2008 and 2000: {}' .format(query))"
   ]
  },
  {
   "cell_type": "markdown",
   "metadata": {},
   "source": [
    "**JOIN**\n",
    "\n",
    " to combine rows from two or more tables, based on a related column between them."
   ]
  },
  {
   "cell_type": "code",
   "execution_count": 213,
   "metadata": {},
   "outputs": [
    {
     "data": {
      "text/html": [
       "<div>\n",
       "<style scoped>\n",
       "    .dataframe tbody tr th:only-of-type {\n",
       "        vertical-align: middle;\n",
       "    }\n",
       "\n",
       "    .dataframe tbody tr th {\n",
       "        vertical-align: top;\n",
       "    }\n",
       "\n",
       "    .dataframe thead th {\n",
       "        text-align: right;\n",
       "    }\n",
       "</style>\n",
       "<table border=\"1\" class=\"dataframe\">\n",
       "  <thead>\n",
       "    <tr style=\"text-align: right;\">\n",
       "      <th></th>\n",
       "      <th>state</th>\n",
       "      <th>sex</th>\n",
       "      <th>age</th>\n",
       "      <th>pop2000</th>\n",
       "      <th>pop2008</th>\n",
       "      <th>id</th>\n",
       "      <th>name</th>\n",
       "      <th>abbreviation</th>\n",
       "      <th>country</th>\n",
       "      <th>type</th>\n",
       "      <th>...</th>\n",
       "      <th>occupied</th>\n",
       "      <th>notes</th>\n",
       "      <th>fips_state</th>\n",
       "      <th>assoc_press</th>\n",
       "      <th>standard_federal_region</th>\n",
       "      <th>census_region</th>\n",
       "      <th>census_region_name</th>\n",
       "      <th>census_division</th>\n",
       "      <th>census_division_name</th>\n",
       "      <th>circuit_court</th>\n",
       "    </tr>\n",
       "  </thead>\n",
       "  <tbody>\n",
       "    <tr>\n",
       "      <th>0</th>\n",
       "      <td>Alabama</td>\n",
       "      <td>M</td>\n",
       "      <td>0</td>\n",
       "      <td>30479</td>\n",
       "      <td>32055</td>\n",
       "      <td>1</td>\n",
       "      <td>Alabama</td>\n",
       "      <td>AL</td>\n",
       "      <td>USA</td>\n",
       "      <td>state</td>\n",
       "      <td>...</td>\n",
       "      <td>occupied</td>\n",
       "      <td></td>\n",
       "      <td>1</td>\n",
       "      <td>Ala.</td>\n",
       "      <td>IV</td>\n",
       "      <td>3</td>\n",
       "      <td>South</td>\n",
       "      <td>6</td>\n",
       "      <td>East South Central</td>\n",
       "      <td>11</td>\n",
       "    </tr>\n",
       "    <tr>\n",
       "      <th>1</th>\n",
       "      <td>Alaska</td>\n",
       "      <td>M</td>\n",
       "      <td>0</td>\n",
       "      <td>4934</td>\n",
       "      <td>5674</td>\n",
       "      <td>2</td>\n",
       "      <td>Alaska</td>\n",
       "      <td>AK</td>\n",
       "      <td>USA</td>\n",
       "      <td>state</td>\n",
       "      <td>...</td>\n",
       "      <td>occupied</td>\n",
       "      <td></td>\n",
       "      <td>2</td>\n",
       "      <td>Alaska</td>\n",
       "      <td>X</td>\n",
       "      <td>4</td>\n",
       "      <td>West</td>\n",
       "      <td>9</td>\n",
       "      <td>Pacific</td>\n",
       "      <td>9</td>\n",
       "    </tr>\n",
       "    <tr>\n",
       "      <th>2</th>\n",
       "      <td>Arizona</td>\n",
       "      <td>M</td>\n",
       "      <td>0</td>\n",
       "      <td>40415</td>\n",
       "      <td>54792</td>\n",
       "      <td>3</td>\n",
       "      <td>Arizona</td>\n",
       "      <td>AZ</td>\n",
       "      <td>USA</td>\n",
       "      <td>state</td>\n",
       "      <td>...</td>\n",
       "      <td>occupied</td>\n",
       "      <td></td>\n",
       "      <td>4</td>\n",
       "      <td>Ariz.</td>\n",
       "      <td>IX</td>\n",
       "      <td>4</td>\n",
       "      <td>West</td>\n",
       "      <td>8</td>\n",
       "      <td>Mountain</td>\n",
       "      <td>9</td>\n",
       "    </tr>\n",
       "    <tr>\n",
       "      <th>3</th>\n",
       "      <td>Arkansas</td>\n",
       "      <td>M</td>\n",
       "      <td>0</td>\n",
       "      <td>18616</td>\n",
       "      <td>21165</td>\n",
       "      <td>4</td>\n",
       "      <td>Arkansas</td>\n",
       "      <td>AR</td>\n",
       "      <td>USA</td>\n",
       "      <td>state</td>\n",
       "      <td>...</td>\n",
       "      <td>occupied</td>\n",
       "      <td></td>\n",
       "      <td>5</td>\n",
       "      <td>Ark.</td>\n",
       "      <td>VI</td>\n",
       "      <td>3</td>\n",
       "      <td>South</td>\n",
       "      <td>7</td>\n",
       "      <td>West South Central</td>\n",
       "      <td>8</td>\n",
       "    </tr>\n",
       "    <tr>\n",
       "      <th>4</th>\n",
       "      <td>California</td>\n",
       "      <td>M</td>\n",
       "      <td>0</td>\n",
       "      <td>252494</td>\n",
       "      <td>287900</td>\n",
       "      <td>5</td>\n",
       "      <td>California</td>\n",
       "      <td>CA</td>\n",
       "      <td>USA</td>\n",
       "      <td>state</td>\n",
       "      <td>...</td>\n",
       "      <td>occupied</td>\n",
       "      <td></td>\n",
       "      <td>6</td>\n",
       "      <td>Calif.</td>\n",
       "      <td>IX</td>\n",
       "      <td>4</td>\n",
       "      <td>West</td>\n",
       "      <td>9</td>\n",
       "      <td>Pacific</td>\n",
       "      <td>9</td>\n",
       "    </tr>\n",
       "  </tbody>\n",
       "</table>\n",
       "<p>5 rows × 22 columns</p>\n",
       "</div>"
      ],
      "text/plain": [
       "        state sex  age  pop2000  pop2008 id        name abbreviation country  \\\n",
       "0     Alabama   M    0    30479    32055  1     Alabama           AL     USA   \n",
       "1      Alaska   M    0     4934     5674  2      Alaska           AK     USA   \n",
       "2     Arizona   M    0    40415    54792  3     Arizona           AZ     USA   \n",
       "3    Arkansas   M    0    18616    21165  4    Arkansas           AR     USA   \n",
       "4  California   M    0   252494   287900  5  California           CA     USA   \n",
       "\n",
       "    type  ...  occupied notes fips_state assoc_press standard_federal_region  \\\n",
       "0  state  ...  occupied                1        Ala.                      IV   \n",
       "1  state  ...  occupied                2      Alaska                       X   \n",
       "2  state  ...  occupied                4       Ariz.                      IX   \n",
       "3  state  ...  occupied                5        Ark.                      VI   \n",
       "4  state  ...  occupied                6      Calif.                      IX   \n",
       "\n",
       "  census_region census_region_name census_division census_division_name  \\\n",
       "0             3              South               6   East South Central   \n",
       "1             4               West               9              Pacific   \n",
       "2             4               West               8             Mountain   \n",
       "3             3              South               7   West South Central   \n",
       "4             4               West               9              Pacific   \n",
       "\n",
       "  circuit_court  \n",
       "0            11  \n",
       "1             9  \n",
       "2             9  \n",
       "3             8  \n",
       "4             9  \n",
       "\n",
       "[5 rows x 22 columns]"
      ]
     },
     "execution_count": 213,
     "metadata": {},
     "output_type": "execute_result"
    }
   ],
   "source": [
    "query = con.execute(\"select * from census INNER JOIN state_fact on census.state = state_fact.name GROUP BY census.state\")\n",
    "df = pd.DataFrame(query.fetchall())\n",
    "df.columns = query.keys()\n",
    "df.head()"
   ]
  },
  {
   "cell_type": "code",
   "execution_count": 214,
   "metadata": {},
   "outputs": [
    {
     "data": {
      "text/plain": [
       "(50, 22)"
      ]
     },
     "execution_count": 214,
     "metadata": {},
     "output_type": "execute_result"
    }
   ],
   "source": [
    "df.shape"
   ]
  },
  {
   "cell_type": "code",
   "execution_count": null,
   "metadata": {},
   "outputs": [],
   "source": []
  }
 ],
 "metadata": {
  "kernelspec": {
   "display_name": "Python 3",
   "language": "python",
   "name": "python3"
  },
  "language_info": {
   "codemirror_mode": {
    "name": "ipython",
    "version": 3
   },
   "file_extension": ".py",
   "mimetype": "text/x-python",
   "name": "python",
   "nbconvert_exporter": "python",
   "pygments_lexer": "ipython3",
   "version": "3.7.6"
  }
 },
 "nbformat": 4,
 "nbformat_minor": 4
}
